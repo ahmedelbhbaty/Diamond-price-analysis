{
 "cells": [
  {
   "cell_type": "markdown",
   "id": "ca8bf46a-e9ed-41bc-80f7-75596878d8d7",
   "metadata": {},
   "source": [
    "# Metadata :\n",
    "- Carat: Weight of the diamond (1 carat = 200 mg)\n",
    "- Cut: Quality of diamond’s shape and facetss\n",
    "- Colour: Hue graded from colorless (D) to yellow (Z)Z\n",
    "- Clarity: Purityi based on flaws or inclusions\n",
    "- Depth: Height of the diamond as a percentage of diameter\n",
    "- Table: Flat top surface, affects light reflection\n",
    "- Price: Cost based on quality and market demand\n",
    "- Size: Dimensions in millimeters, related to carat weightweight."
   ]
  },
  {
   "cell_type": "code",
   "execution_count": null,
   "id": "f8a625c1-a58d-4640-90e1-4a49acc8ee85",
   "metadata": {},
   "outputs": [],
   "source": [
    "#import the libraries\n",
    "import pandas as pd\n",
    "import numpy as np\n",
    "import plotly.express as px\n",
    "import plotly.graph_objects as go \n",
    "\n",
    "data = pd.read_csv(r\"D:\\مشاريع\\5- Diamond price analysis\\diamonds.csv\")\n",
    "data.head()"
   ]
  },
  {
   "cell_type": "code",
   "execution_count": null,
   "id": "95f411bf-2799-4be1-844b-5234df7f747e",
   "metadata": {},
   "outputs": [],
   "source": [
    "#remove the first column that is undefined\n",
    "data = data.drop(\"Unnamed: 0\", axis=1)"
   ]
  },
  {
   "cell_type": "code",
   "execution_count": null,
   "id": "f1ce947b-d7c9-4558-a0a7-cbb0c2e4a4c5",
   "metadata": {},
   "outputs": [],
   "source": [
    "data"
   ]
  },
  {
   "cell_type": "markdown",
   "id": "44993d90-a046-4470-afa4-7e3447b1977c",
   "metadata": {},
   "source": [
    "Relationship between the carat and the price of diamond\n"
   ]
  },
  {
   "cell_type": "code",
   "execution_count": null,
   "id": "96c926c1-2bb2-4be1-9f58-d6a545068709",
   "metadata": {},
   "outputs": [],
   "source": [
    "figure= px.scatter(data_frame = data , x='carat', y='price', size='depth', color='cut', \n",
    "                   trendline='ols')\n",
    "figure.show()"
   ]
  },
  {
   "cell_type": "markdown",
   "id": "dd7626eb-8c29-4495-977b-1c3873ed7a41",
   "metadata": {},
   "source": [
    "Add a new column for size >> (X * Y * Z)"
   ]
  },
  {
   "cell_type": "code",
   "execution_count": null,
   "id": "5d1c60ef-d2fd-46b4-be73-1673d6071093",
   "metadata": {},
   "outputs": [],
   "source": [
    "data[\"size\"] = data[\"x\"] * data[\"y\"] * data[\"z\"] \n"
   ]
  },
  {
   "cell_type": "code",
   "execution_count": null,
   "id": "8b493e1e-d98c-4f2c-a401-f9c4811a1364",
   "metadata": {},
   "outputs": [],
   "source": [
    "data.head() "
   ]
  },
  {
   "cell_type": "code",
   "execution_count": null,
   "id": "5dba027d-7d82-4310-8b04-1ed00b487ece",
   "metadata": {},
   "outputs": [],
   "source": [
    "print(data[\"cut\"].values)"
   ]
  },
  {
   "cell_type": "markdown",
   "id": "fc9b9c14-b490-42e6-8287-c1537e60656c",
   "metadata": {},
   "source": [
    "Relationship between size and price"
   ]
  },
  {
   "cell_type": "code",
   "execution_count": null,
   "id": "d2770a73-7a98-466c-a504-c7e379b3e898",
   "metadata": {},
   "outputs": [],
   "source": [
    "figure = px.scatter(data , x=\"size\", \n",
    "                    y=\"price\", size=\"size\", \n",
    "                    color= \"cut\", trendline=\"ols\")\n",
    "figure.show() "
   ]
  },
  {
   "cell_type": "markdown",
   "id": "4b475778-59a4-41d6-a485-1a082d0c5526",
   "metadata": {},
   "source": [
    "The well-cut diamond is relatively larger compared to other diamonds.\n",
    "\n",
    "There is a linear relationship between the size of all diamond types and their prices.\n",
    "\n",
    "- Let us now take a look at the prices of all diamond types based on their colors"
   ]
  },
  {
   "cell_type": "code",
   "execution_count": null,
   "id": "44f7c5d7-232f-45dd-aca9-3c604d349052",
   "metadata": {},
   "outputs": [],
   "source": [
    "fig = px.box(data, x=\"cut\", y=\"price\", color=\"color\") \n",
    "fig.show()\n",
    "\n",
    "\n"
   ]
  },
  {
   "cell_type": "markdown",
   "id": "f571d4b2-039e-4552-843a-61e460b40784",
   "metadata": {},
   "source": [
    "- Prices of all types of diamonds based on their clarity"
   ]
  },
  {
   "cell_type": "code",
   "execution_count": null,
   "id": "ba74b5e6-baf9-482c-bcf4-1383055e4f6f",
   "metadata": {},
   "outputs": [],
   "source": [
    "fig = px.box(data , x=\"cut\", y=\"price\", color=\"clarity\"  ) \n",
    "fig.show()"
   ]
  },
  {
   "cell_type": "markdown",
   "id": "85f3ed71-f030-400a-962e-17efcfdf0fce",
   "metadata": {},
   "source": [
    "- Relationship between price and the other features (using the correlation coefficient)"
   ]
  },
  {
   "cell_type": "code",
   "execution_count": null,
   "id": "01b78136-84c9-45fc-994c-bf50bc3268a2",
   "metadata": {},
   "outputs": [],
   "source": [
    "correlation = data.select_dtypes(include=['float64', 'int64']).corr()                            \n",
    "print(correlation[\"price\"].sort_values(ascending=False))"
   ]
  },
  {
   "cell_type": "code",
   "execution_count": null,
   "id": "55dac84f-f472-43d4-a400-c8730f42bf08",
   "metadata": {},
   "outputs": [],
   "source": [
    "#Convert cut column values ​​to numeric values:\n",
    "data[\"cut\"] = data[\"cut\"].map({\n",
    "    'Ideal': 1,\n",
    "    'Premium': 2,\n",
    "    'Good': 3,\n",
    "    'Very Good': 4, \n",
    "    'Fair': 5\n",
    "}).fillna(0)"
   ]
  },
  {
   "cell_type": "markdown",
   "id": "a346a78e-8b1d-4f9e-bdc1-7ec1197fa666",
   "metadata": {},
   "source": [
    "splitting data \r\n"
   ]
  },
  {
   "cell_type": "code",
   "execution_count": null,
   "id": "59f54170-4881-40cf-978d-4fba383c63ad",
   "metadata": {},
   "outputs": [],
   "source": [
    "from sklearn.model_selection import train_test_split \n",
    "\n",
    "x = np.array(data[[\"carat\", \"cut\", \"size\"]]) \n",
    "\n",
    "y = np.array(data[[\"price\"]]) \n",
    "y = y.ravel()\n",
    "\n",
    "#split data to train and test\n",
    "xtrain, xtest, ytrain, ytest = train_test_split(x, y,  \n",
    "test_size=0.10,  \n",
    "random_state=42)"
   ]
  },
  {
   "cell_type": "markdown",
   "id": "e0c57058-657d-455a-bab5-7da48e72baf6",
   "metadata": {},
   "source": [
    "Train the model\n"
   ]
  },
  {
   "cell_type": "code",
   "execution_count": null,
   "id": "7d2bcdcf-ab91-4d3a-a202-b5d63390ca23",
   "metadata": {},
   "outputs": [],
   "source": [
    "#train the model\n",
    "from sklearn.ensemble import RandomForestRegressor \n",
    "model = RandomForestRegressor() \n",
    "model.fit(xtrain, ytrain) "
   ]
  },
  {
   "cell_type": "code",
   "execution_count": null,
   "id": "8127d490-0f6d-4554-b853-e8c93989bd68",
   "metadata": {},
   "outputs": [],
   "source": [
    "print(\"Enter The Details to Predict a Price\") \n",
    "\n",
    "a = float(input(\"Carat Size: \"))\n",
    "b = int(input(\"Cut Type ->Ideal:1 ->Premium:2 ->Good:3 ->Very Good:4 ->Fair:5): \")) \n",
    "c = float(input(\"Size: \")) 1.2\n",
    "\n",
    "features = np.array([[a, b, c]]) \n",
    "\n",
    "print(\"Predicted Diamond's Price = \", model.predict(features)) \n"
   ]
  },
  {
   "cell_type": "code",
   "execution_count": null,
   "id": "0b76b941-9d6e-42ea-be12-b52004aac649",
   "metadata": {},
   "outputs": [],
   "source": []
  }
 ],
 "metadata": {
  "kernelspec": {
   "display_name": "Python 3 (ipykernel)",
   "language": "python",
   "name": "python3"
  },
  "language_info": {
   "codemirror_mode": {
    "name": "ipython",
    "version": 3
   },
   "file_extension": ".py",
   "mimetype": "text/x-python",
   "name": "python",
   "nbconvert_exporter": "python",
   "pygments_lexer": "ipython3",
   "version": "3.11.5"
  }
 },
 "nbformat": 4,
 "nbformat_minor": 5
}
